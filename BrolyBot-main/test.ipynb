{
 "cells": [
  {
   "cell_type": "code",
   "execution_count": 1,
   "metadata": {},
   "outputs": [
    {
     "name": "stderr",
     "output_type": "stream",
     "text": [
      "/home/tako/anaconda3/envs/junyoung/lib/python3.10/site-packages/torch/cuda/__init__.py:83: UserWarning: CUDA initialization: Unexpected error from cudaGetDeviceCount(). Did you run some cuda functions before calling NumCudaDevices() that might have already set an error? Error 804: forward compatibility was attempted on non supported HW (Triggered internally at  ../c10/cuda/CUDAFunctions.cpp:109.)\n",
      "  return torch._C._cuda_getDeviceCount() > 0\n"
     ]
    }
   ],
   "source": [
    "import pandas as pd\n",
    "from reader import Reader\n",
    "from tqdm import tqdm"
   ]
  },
  {
   "cell_type": "code",
   "execution_count": 2,
   "metadata": {},
   "outputs": [],
   "source": [
    "## config\n",
    "data_path = \"./data/\"\n",
    "id_data_name = \"dpr_test_data_output5.csv\"\n",
    "test_data_name = \"pdf_test_data.csv\"\n",
    "id_count_list = [1,3,5]"
   ]
  },
  {
   "cell_type": "code",
   "execution_count": 3,
   "metadata": {},
   "outputs": [
    {
     "name": "stderr",
     "output_type": "stream",
     "text": [
      "The tokenizer class you load from this checkpoint is not the same type as the class this function is called from. It may result in unexpected tokenization. \n",
      "The tokenizer class you load from this checkpoint is 'GPT2Tokenizer'. \n",
      "The class this function is called from is 'PreTrainedTokenizerFast'.\n"
     ]
    }
   ],
   "source": [
    "id_data = pd.read_csv(data_path + id_data_name)\n",
    "test_data = pd.read_csv(data_path + test_data_name, index_col=0)\n",
    "reader = Reader()"
   ]
  },
  {
   "cell_type": "code",
   "execution_count": 4,
   "metadata": {},
   "outputs": [],
   "source": [
    "query = test_data['질문'].to_list()\n",
    "y = test_data['답'].to_list()\n",
    "total_pred = []"
   ]
  },
  {
   "cell_type": "code",
   "execution_count": 5,
   "metadata": {},
   "outputs": [
    {
     "name": "stderr",
     "output_type": "stream",
     "text": [
      " 97%|█████████▋| 31/32 [00:20<00:00,  1.48it/s]\n",
      " 97%|█████████▋| 31/32 [00:33<00:01,  1.07s/it]\n",
      " 84%|████████▍ | 27/32 [00:14<00:02,  2.07it/s]Input length of input_ids is 687, but ``max_length`` is set to 512. This can lead to unexpected behavior. You should consider increasing ``config.max_length`` or ``max_length``.\n",
      " 97%|█████████▋| 31/32 [00:14<00:00,  2.07it/s]\n",
      " 97%|█████████▋| 31/32 [00:16<00:00,  1.91it/s]\n",
      " 97%|█████████▋| 31/32 [00:19<00:00,  1.57it/s]\n"
     ]
    }
   ],
   "source": [
    "for column in id_data.columns:\n",
    "    pred = []\n",
    "    id_list = id_data[column]\n",
    "    for q, id in zip(query, tqdm(id_list)):\n",
    "        pred.append(reader.only_generate(query=q, id=id))\n",
    "\n",
    "    total_pred.append(pred)"
   ]
  },
  {
   "cell_type": "code",
   "execution_count": 6,
   "metadata": {},
   "outputs": [],
   "source": [
    "from types import NoneType\n",
    "\n",
    "\n",
    "top1=[]\n",
    "top3=[]\n",
    "top5=[]\n",
    "\n",
    "for x in total_pred[0]:\n",
    "    if type(x) != NoneType:\n",
    "        top1.append(x)\n",
    "    else:\n",
    "        top1.append(\"-\")\n",
    "\n",
    "for idx, data in enumerate(zip(total_pred[0], total_pred[1], total_pred[2])):\n",
    "    top3.append(\" \".join(filter(lambda x: type(x) != NoneType, data)))\n",
    "\n",
    "\n",
    "for idx, data in enumerate(zip(total_pred[0], total_pred[1], total_pred[2], total_pred[3], total_pred[4])):\n",
    "    top5.append(\" \".join(filter(lambda x: type(x) != NoneType, data)))"
   ]
  },
  {
   "cell_type": "code",
   "execution_count": 7,
   "metadata": {},
   "outputs": [
    {
     "data": {
      "text/plain": [
       "{'rouge-1': {'r': 0.24666177373073928,\n",
       "  'p': 0.15001110538239035,\n",
       "  'f': 0.1705459435149426},\n",
       " 'rouge-2': {'r': 0.1810637822322605,\n",
       "  'p': 0.10045079387159735,\n",
       "  'f': 0.11847058751115938},\n",
       " 'rouge-l': {'r': 0.24509927373073925,\n",
       "  'p': 0.14953762053390549,\n",
       "  'f': 0.16981919932889608}}"
      ]
     },
     "execution_count": 7,
     "metadata": {},
     "output_type": "execute_result"
    }
   ],
   "source": [
    "reader.evaluate(y=y, pred=top1)"
   ]
  },
  {
   "cell_type": "code",
   "execution_count": 8,
   "metadata": {},
   "outputs": [
    {
     "data": {
      "text/plain": [
       "{'rouge-1': {'r': 0.5263598976853288,\n",
       "  'p': 0.14582483671586544,\n",
       "  'f': 0.20826793787099449},\n",
       " 'rouge-2': {'r': 0.4540457956898174,\n",
       "  'p': 0.10380624341529543,\n",
       "  'f': 0.15270555445863337},\n",
       " 'rouge-l': {'r': 0.5217302680556991,\n",
       "  'p': 0.14440438217041088,\n",
       "  'f': 0.20609402482751624}}"
      ]
     },
     "execution_count": 8,
     "metadata": {},
     "output_type": "execute_result"
    }
   ],
   "source": [
    "reader.evaluate(y=y, pred=top3)"
   ]
  },
  {
   "cell_type": "code",
   "execution_count": 9,
   "metadata": {},
   "outputs": [
    {
     "data": {
      "text/plain": [
       "{'rouge-1': {'r': 0.5965136675265985,\n",
       "  'p': 0.11826705724952437,\n",
       "  'f': 0.17750588721799615},\n",
       " 'rouge-2': {'r': 0.517587462356484,\n",
       "  'p': 0.08342363760530577,\n",
       "  'f': 0.12789337610706},\n",
       " 'rouge-l': {'r': 0.591884037896969,\n",
       "  'p': 0.11744468882847174,\n",
       "  'f': 0.17610923917330346}}"
      ]
     },
     "execution_count": 9,
     "metadata": {},
     "output_type": "execute_result"
    }
   ],
   "source": [
    "reader.evaluate(y=y, pred=top5)"
   ]
  },
  {
   "cell_type": "code",
   "execution_count": 14,
   "metadata": {},
   "outputs": [
    {
     "data": {
      "text/plain": [
       "'학석사연계과정 조기졸업트랙 지원자격'"
      ]
     },
     "execution_count": 14,
     "metadata": {},
     "output_type": "execute_result"
    }
   ],
   "source": [
    "query[14]"
   ]
  },
  {
   "cell_type": "code",
   "execution_count": 15,
   "metadata": {},
   "outputs": [
    {
     "data": {
      "text/plain": [
       "'-'"
      ]
     },
     "execution_count": 15,
     "metadata": {},
     "output_type": "execute_result"
    }
   ],
   "source": [
    "top1[14]"
   ]
  },
  {
   "cell_type": "code",
   "execution_count": 16,
   "metadata": {},
   "outputs": [
    {
     "data": {
      "text/plain": [
       "'- 일반대학원 석사과정 2007학년도 이후 입학자→ 등록(4학기) + 수료학점 충족 + 선수학점 충족(부과자에 한함)+ 졸업기준 성적 취득(총 평점평균 3.00 이상/취득학점 기준) + 논문제출자격시험 합격(면제) + 학위논문 심사 합격(논문대체 포함(해당 학과)) 학석사연계과정 조기졸업트랙 지원자격 일반대학원 석사과정 2008학년도 이후 입학생→ 등록(4 학기) + 수료 학점 충족 + 선수 학점 충족(부과의자에 한함)+ 졸업생점 충족(부과에 한함)+ 졸업기준을 성적 취득(총평점평균 3.00 이상) + 논문제출 자격시험 합격(면제() + 학위논문 승인 + 학위논문 심사) + 학위논문심사 합격(논문대체) - 전문대학원 학술석사과정 2009학년도 이후 입학자→ 등록(4학기) + 수료학점 충족 + 선수학점 충족(부과자에 한함)+ 졸업기준 성적 취득(총 평점평균 3.00 이상/취득학점 기준) + 논문제출자격시험 합격(면제) + 학위논문 심사 합격(논문대체 포함(해당 학과))- 전문대학원 전문석사과정 2009학년도 이후 입학자→ 등록(4학기) + 수료학점 충족 + 선수학점 충족(부과자에 한함) + 졸업기준 성적 취득(총 평점평균 3.00 이상/취득학점 기준) + 논문제출자격시험 합격 + 학위논문 심사 합격→ 등록(4학기) + 수료학점 충족 + 선수학점 충족(부과자에 한함) + 졸업기준 성적 취득(총 평점평균 3.00 이상/취득학점 기준) + 논문대체 학점취득/대학내규에서 정한 소정의 기준 충족 학석사연계과정 조기졸업트랙 지원자격 전문대학원 학술석사과정은 2009학년도 이후입학자→ 등록(3학기) + 졸업기준 성적취득(총 평점 평균 3.00 이상/ 취득학점 기준) - 전문대학원 전문석사과정과 동일한 학점취득/대학원내규에서 정한 일정한 기준 충족 - 일반대학원 박사과정 2007학년도 이후 입학자→ 등록(4학기) + 수료학점 충족 + 선수학점 충족(부과자에 한함)+ 연구등록(최대 4학기) + 졸업기준 성적 취득(총 평점평균 3.00 이상/취득학점 기준) + 논문제출자격시험 합격 +학위논문 심사 합격 학석사연계과정 조기졸업트랙 지원자격 일반대학원 박사과정 2008학년도 이후 입학생→ 등록(4 학기) + 수료 학점 충족 + 선수 학점 충족(부과의자에 한함)+연구등록(최대 3학기) + 학위기준 성적 취득( 총 평점평균 3.0 이상/취득학점( 기준) + 논 문제출자격시험 합격 - 전문대학원 박사과정 2009학년도 이후 입학자→ 등록(4학기) + 수료학점 충족 + 선수학점 충족(부과자에 한함) + 연구등록(최대 4학기) + 졸업기준 성적 취득(총 평점평균 3.00 이상/취득학점 기준) + 논문제출자격시험 합격 + 학위논문 심사 합격 학석사연계과정 조기졸업트랙 지원자격 - 전문대학원 박사과정에 2009학년도 이후입학자→ 등록(3학기) + 이수학점 충족 + 선수(프로선수) + 연구등록(유급수) + 연구락(박사과정) 2009학년도 이후 입학학자→ 등록(5학기) + 수강학점 충족 + 연구등록(박사과정) 2009학년도부터 전문대학원 박사과정 2010학년도 이후 입학생→ 등록(4 학기) + 수료 학점 충족 + 선수학원 충족(부과자 한함) + 연구락(박사논문 심사 합격) + 학위논문 심사 합격한 전문대학원 박사과정 2008학년도 이후 입학자들의 졸업기준 성적 취득(수업실수 포함) + 논문제출(자격시험 합격) + 학위 논문 심사 합격'"
      ]
     },
     "execution_count": 16,
     "metadata": {},
     "output_type": "execute_result"
    }
   ],
   "source": [
    "top5[14]"
   ]
  }
 ],
 "metadata": {
  "kernelspec": {
   "display_name": "Python 3.10.4 ('junyoung')",
   "language": "python",
   "name": "python3"
  },
  "language_info": {
   "codemirror_mode": {
    "name": "ipython",
    "version": 3
   },
   "file_extension": ".py",
   "mimetype": "text/x-python",
   "name": "python",
   "nbconvert_exporter": "python",
   "pygments_lexer": "ipython3",
   "version": "3.10.4"
  },
  "orig_nbformat": 4,
  "vscode": {
   "interpreter": {
    "hash": "8f66745bd1bb9b2b47be4ba055607b73469ed8afe5fe9092795f77c067216248"
   }
  }
 },
 "nbformat": 4,
 "nbformat_minor": 2
}
